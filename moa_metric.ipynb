{
  "nbformat": 4,
  "nbformat_minor": 0,
  "metadata": {
    "colab": {
      "name": "moa_metric.ipynb",
      "provenance": []
    },
    "kernelspec": {
      "name": "python3",
      "display_name": "Python 3"
    }
  },
  "cells": [
    {
      "cell_type": "code",
      "metadata": {
        "id": "Y2IEUHdwUzcK"
      },
      "source": [
        "# moa_metric.ipynb\n",
        "# 2020.11.26\n",
        "# MoA metric from https://www.youtube.com/watch?v=D7i67UT3O3o&feature=youtu.be\n",
        "\n",
        "import numpy as np\n",
        "\n",
        "def clip(x, eps = 1E-15):  \n",
        "  return np.fmax(  np.fmin(x, 1.0-eps), eps  )\n",
        "\n",
        "def my_log_loss(y, yht, eps = 1E-15):\n",
        "  yht_clipped = clip(yht, eps=eps)\n",
        "  r = -np.sum(y*np.log(yht_clipped) + (1-y)*np.log(1-yht_clipped))/len(y)\n",
        "  return r\n",
        "\n",
        "from sklearn.metrics import log_loss"
      ],
      "execution_count": 29,
      "outputs": []
    },
    {
      "cell_type": "code",
      "metadata": {
        "id": "8SiohNIaVTJI",
        "colab": {
          "base_uri": "https://localhost:8080/"
        },
        "outputId": "76bd8a65-0baf-4ec6-9f57-751640492fe1"
      },
      "source": [
        "N=20 # number of targets - we will assume each target is a constant for all entry points\n",
        "Y = TARGTES = np.random.randint(0,2,N)\n",
        "print('TARGTES=Y=',TARGTES)\n",
        "\n",
        "print('log_loss(Y,Y) = ',log_loss(Y,Y)  )\n",
        "assert log_loss(Y,Y) == my_log_loss(Y,Y)"
      ],
      "execution_count": 30,
      "outputs": [
        {
          "output_type": "stream",
          "text": [
            "TARGTES=Y= [0 0 1 1 0 1 0 1 1 0 0 1 0 1 0 0 1 1 0 1]\n",
            "log_loss(Y,Y) =  9.992007221626413e-16\n"
          ],
          "name": "stdout"
        }
      ]
    },
    {
      "cell_type": "code",
      "metadata": {
        "colab": {
          "base_uri": "https://localhost:8080/"
        },
        "id": "uYhpzSfZw71a",
        "outputId": "cf137e08-6a7d-49b8-f3a7-688402bb06e5"
      },
      "source": [
        "NPred=10\n",
        "print(f'here are {NPred} possible predictions')\n",
        "yhats = predictions = np.arange(0,1.01,1/(NPred-1))\n",
        "print('yhats=',yhats)\n",
        "\n",
        "print('We select one of them and assume it is predicted value for each of the TARGETS=Y.')\n",
        "preds = np.array([yhats[0]]*N)\n",
        "print('So, we predict these values for Y : ',preds)\n",
        "print('log_loss(Y,preds) = ',log_loss(Y,preds)  )\n",
        "print('Q: do log_loss and my_log_loss match?   A:', log_loss(Y,preds) == my_log_loss(Y,preds) )\n",
        "assert log_loss(Y,preds) == my_log_loss(Y,preds)"
      ],
      "execution_count": 31,
      "outputs": [
        {
          "output_type": "stream",
          "text": [
            "here are 10 possible predictions\n",
            "yhats= [0.         0.11111111 0.22222222 0.33333333 0.44444444 0.55555556\n",
            " 0.66666667 0.77777778 0.88888889 1.        ]\n",
            "We select one of them and assume it is predicted value for each of the TARGETS=Y.\n",
            "So, we predict these values for Y :  [0. 0. 0. 0. 0. 0. 0. 0. 0. 0. 0. 0. 0. 0. 0. 0. 0. 0. 0. 0.]\n",
            "log_loss(Y,preds) =  17.26938819745534\n",
            "Q: do log_loss and my_log_loss match?   A: True\n"
          ],
          "name": "stdout"
        }
      ]
    },
    {
      "cell_type": "code",
      "metadata": {
        "id": "-j681CL6YNc1"
      },
      "source": [
        "xs = [] \n",
        "ys = []\n",
        "for yhat in  yhats:\n",
        "  # print('yhat=',yhat)\n",
        "  xs.append(yhat)\n",
        "  ys.append( log_loss( Y, np.array([yhat]*N) ) )"
      ],
      "execution_count": 32,
      "outputs": []
    },
    {
      "cell_type": "code",
      "metadata": {
        "colab": {
          "base_uri": "https://localhost:8080/",
          "height": 265
        },
        "id": "U3WCbxa6ZJYD",
        "outputId": "22c73f26-c034-48f8-e7ac-719d2e8ce6f1"
      },
      "source": [
        "%matplotlib inline\n",
        "import matplotlib \n",
        "import matplotlib.pyplot as plt\n",
        "plt.plot(xs,ys)\n",
        "plt.grid()"
      ],
      "execution_count": 33,
      "outputs": [
        {
          "output_type": "display_data",
          "data": {
            "image/png": "[encoded data removed]",
            "text/plain": [
              "<Figure size 432x288 with 1 Axes>"
            ]
          },
          "metadata": {
            "tags": [],
            "needs_background": "light"
          }
        }
      ]
    },
    {
      "cell_type": "code",
      "metadata": {
        "id": "N_1PFBGop_ZT"
      },
      "source": [
        ""
      ],
      "execution_count": 33,
      "outputs": []
    },
    {
      "cell_type": "markdown",
      "metadata": {
        "id": "CTCIiiXkV4Z5"
      },
      "source": [
        "# Test log_loss, find optimal log_loss solution **yhats** for a given **TARGET**"
      ]
    },
    {
      "cell_type": "code",
      "metadata": {
        "id": "n2Ka1ZBPWGsr",
        "outputId": "a3d0c3f8-ce52-4547-80d0-17b901c04b50",
        "colab": {
          "base_uri": "https://localhost:8080/"
        }
      },
      "source": [
        "# TARGTES=Y= np.array([0,1,1,1,0,1,1,0,1,1,0,0,1,1,0,1,0,1,0,1])\n",
        "\n",
        "N=10 # number of targets - we will assume each target is a constant for all entry points\n",
        "Y = TARGTES = np.random.randint(0,2,N)\n",
        "print('TARGTES=Y=',TARGTES)\n",
        "\n",
        "eps = 1E-10\n",
        "yhats = [0.5]*len(Y)\n",
        "print('yhats=',yhats)"
      ],
      "execution_count": 34,
      "outputs": [
        {
          "output_type": "stream",
          "text": [
            "TARGTES=Y= [0 1 1 1 1 0 0 1 1 0]\n",
            "yhats= [0.5, 0.5, 0.5, 0.5, 0.5, 0.5, 0.5, 0.5, 0.5, 0.5]\n"
          ],
          "name": "stdout"
        }
      ]
    },
    {
      "cell_type": "code",
      "metadata": {
        "id": "VbIWQBQKWYsa",
        "outputId": "c22edd79-d36a-4377-cb61-b77b09a60133",
        "colab": {
          "base_uri": "https://localhost:8080/"
        }
      },
      "source": [
        "log_loss(Y,yhats)"
      ],
      "execution_count": 35,
      "outputs": [
        {
          "output_type": "execute_result",
          "data": {
            "text/plain": [
              "0.6931471805599453"
            ]
          },
          "metadata": {
            "tags": []
          },
          "execution_count": 35
        }
      ]
    },
    {
      "cell_type": "code",
      "metadata": {
        "id": "97x81d64WcnV",
        "outputId": "836902d6-130e-4bcc-d73b-5c909f893615",
        "colab": {
          "base_uri": "https://localhost:8080/"
        }
      },
      "source": [
        "r = np.random.randint(0,2,N)-0.5\n",
        "r"
      ],
      "execution_count": 36,
      "outputs": [
        {
          "output_type": "execute_result",
          "data": {
            "text/plain": [
              "array([ 0.5,  0.5, -0.5, -0.5, -0.5, -0.5, -0.5,  0.5,  0.5, -0.5])"
            ]
          },
          "metadata": {
            "tags": []
          },
          "execution_count": 36
        }
      ]
    },
    {
      "cell_type": "code",
      "metadata": {
        "id": "UlVhvyc4X6eS",
        "outputId": "a75b7356-07c7-4d19-fc21-6d0ea8f07301",
        "colab": {
          "base_uri": "https://localhost:8080/"
        }
      },
      "source": [
        "yhats + r"
      ],
      "execution_count": 37,
      "outputs": [
        {
          "output_type": "execute_result",
          "data": {
            "text/plain": [
              "array([1., 1., 0., 0., 0., 0., 0., 1., 1., 0.])"
            ]
          },
          "metadata": {
            "tags": []
          },
          "execution_count": 37
        }
      ]
    },
    {
      "cell_type": "code",
      "metadata": {
        "id": "izu_zLMjYEib",
        "outputId": "2063c2d5-3f41-4003-a95e-8abe80356cc0",
        "colab": {
          "base_uri": "https://localhost:8080/"
        }
      },
      "source": [
        "log_loss(Y,yhats+r)"
      ],
      "execution_count": 38,
      "outputs": [
        {
          "output_type": "execute_result",
          "data": {
            "text/plain": [
              "13.815590517707292"
            ]
          },
          "metadata": {
            "tags": []
          },
          "execution_count": 38
        }
      ]
    },
    {
      "cell_type": "code",
      "metadata": {
        "id": "pm3Le79AYP5O",
        "outputId": "c1170d57-b624-42d3-d32d-37b89c40346b",
        "colab": {
          "base_uri": "https://localhost:8080/"
        }
      },
      "source": [
        "EPS = 1E-15\n",
        "\n",
        "for EPS in [1E-15,1E-10,1E-5,1E-3,1E-2,1E-1,2E-1]:\n",
        "  logls = []\n",
        "  for i in range(20):\n",
        "    r = np.random.randint(0,2,N)-0.5\n",
        "    logls.append(   round(log_loss(Y,yhats+r, eps=EPS),1)  )\n",
        "  print( EPS,\n",
        "        round(np.mean(logls),1),   \n",
        "        round(np.median(logls),1), \n",
        "        round(np.std(logls),1), \n",
        "        logls)"
      ],
      "execution_count": 42,
      "outputs": [
        {
          "output_type": "stream",
          "text": [
            "1e-15 18.5 17.2 7.2 [13.8, 13.8, 10.4, 24.2, 13.8, 20.7, 13.8, 13.8, 6.9, 6.9, 20.7, 20.7, 27.6, 24.2, 13.8, 24.2, 13.8, 31.1, 31.1, 24.2]\n",
            "1e-10 12.1 11.5 2.5 [13.8, 13.8, 11.5, 11.5, 6.9, 16.1, 9.2, 6.9, 11.5, 13.8, 13.8, 16.1, 11.5, 9.2, 11.5, 13.8, 13.8, 11.5, 13.8, 11.5]\n",
            "1e-05 5.5 5.8 1.3 [5.8, 5.8, 5.8, 5.8, 6.9, 5.8, 4.6, 3.5, 6.9, 8.1, 5.8, 5.8, 3.5, 4.6, 5.8, 6.9, 3.5, 3.5, 6.9, 4.6]\n",
            "0.001 3.8 3.5 0.9 [4.1, 3.5, 3.5, 4.8, 3.5, 4.1, 3.5, 4.1, 3.5, 3.5, 6.2, 3.5, 2.1, 2.8, 4.1, 2.1, 4.8, 3.5, 4.8, 3.5]\n",
            "0.01 2.0 1.8 0.7 [2.3, 1.8, 2.3, 2.3, 3.2, 2.3, 2.8, 0.9, 1.4, 3.7, 1.4, 0.9, 1.8, 1.4, 1.8, 2.3, 3.2, 1.4, 1.8, 1.4]\n",
            "0.1 1.2 1.2 0.2 [1.0, 1.6, 1.2, 1.0, 1.2, 1.2, 0.8, 1.4, 0.8, 1.6, 0.8, 1.0, 1.4, 1.2, 1.4, 1.0, 1.2, 1.4, 1.4, 1.4]\n",
            "0.2 1.0 0.9 0.2 [0.8, 0.6, 0.9, 0.9, 0.8, 0.8, 1.2, 1.1, 1.1, 1.1, 0.9, 0.9, 1.2, 0.8, 0.5, 1.3, 0.8, 1.3, 1.3, 0.9]\n"
          ],
          "name": "stdout"
        }
      ]
    },
    {
      "cell_type": "code",
      "metadata": {
        "id": "MS15jUBgYqP8"
      },
      "source": [
        ""
      ],
      "execution_count": null,
      "outputs": []
    }
  ]
}