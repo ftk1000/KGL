{
  "nbformat": 4,
  "nbformat_minor": 0,
  "metadata": {
    "colab": {
      "name": "moa_metric.ipynb",
      "provenance": [],
      "include_colab_link": true
    },
    "kernelspec": {
      "name": "python3",
      "display_name": "Python 3"
    }
  },
  "cells": [
    {
      "cell_type": "markdown",
      "metadata": {
        "id": "view-in-github",
        "colab_type": "text"
      },
      "source": [
        "<a href=\"https://colab.research.google.com/github/ftk1000/KGL/blob/master/moa_metric.ipynb\" target=\"_parent\"><img src=\"https://colab.research.google.com/assets/colab-badge.svg\" alt=\"Open In Colab\"/></a>"
      ]
    },
    {
      "cell_type": "code",
      "metadata": {
        "id": "Y2IEUHdwUzcK"
      },
      "source": [
        "# moa_metric.ipynb\n",
        "# 2020.11.26\n",
        "# MoA metric from https://www.youtube.com/watch?v=D7i67UT3O3o&feature=youtu.be\n",
        "\n",
        "import numpy as np\n",
        "\n",
        "def clip(x, eps = 1E-15):  \n",
        "  return np.fmax(  np.fmin(x, 1.0-eps), eps  )\n",
        "\n",
        "def my_log_loss(y, yht):\n",
        "  yht_clipped = clip(yht)\n",
        "  r = -np.sum(y*np.log(yht_clipped) + (1-y)*np.log(1-yht_clipped))/len(y)\n",
        "  return r\n",
        "\n",
        "from sklearn.metrics import log_loss"
      ],
      "execution_count": 19,
      "outputs": []
    },
    {
      "cell_type": "code",
      "metadata": {
        "id": "8SiohNIaVTJI",
        "outputId": "fdd9992c-c129-4f3c-916d-d4d9271b98f6",
        "colab": {
          "base_uri": "https://localhost:8080/"
        }
      },
      "source": [
        "N=20 # number of targets - we will assume each target is a constant for all entry points\n",
        "Y = TARGTES = np.random.randint(0,2,N)\n",
        "print('TARGTES=Y=',TARGTES)\n",
        "\n",
        "print('log_loss(Y,Y) = ',log_loss(Y,Y)  )\n",
        "assert log_loss(Y,Y) == my_log_loss(Y,Y)"
      ],
      "execution_count": 28,
      "outputs": [
        {
          "output_type": "stream",
          "text": [
            "TARGTES=Y= [0 0 0 0 0 1 1 1 0 1 1 0 0 0 0 1 0 1 0 1]\n",
            "log_loss(Y,Y) =  9.992007221626413e-16\n"
          ],
          "name": "stdout"
        }
      ]
    },
    {
      "cell_type": "code",
      "metadata": {
        "id": "uYhpzSfZw71a",
        "outputId": "05818572-f51e-41a4-ec0d-f98d75cf36ee",
        "colab": {
          "base_uri": "https://localhost:8080/"
        }
      },
      "source": [
        "NPred=10\n",
        "print(f'here are {NPred} possible predictions')\n",
        "yhats = predictions = np.arange(0,1.01,1/(NPred-1))\n",
        "print('yhats=',yhats)\n",
        "\n",
        "print('We select one of them and assume it is predicted value for each of the TARGETS=Y.')\n",
        "preds = np.array([yhats[0]]*N)\n",
        "print('So, we predict these values for Y : ',preds)\n",
        "print('log_loss(Y,preds) = ',log_loss(Y,preds)  )\n",
        "print('Q: do log_loss and my_log_loss match?   A:', log_loss(Y,preds) == my_log_loss(Y,preds) )\n",
        "assert log_loss(Y,preds) == my_log_loss(Y,preds)"
      ],
      "execution_count": 33,
      "outputs": [
        {
          "output_type": "stream",
          "text": [
            "here are 10 possible predictions\n",
            "yhats= [0.         0.11111111 0.22222222 0.33333333 0.44444444 0.55555556\n",
            " 0.66666667 0.77777778 0.88888889 1.        ]\n",
            "We select one of them and assume it is predicted value for each of the TARGETS=Y.\n",
            "So, we predict these values for Y :  [0. 0. 0. 0. 0. 0. 0. 0. 0. 0. 0. 0. 0. 0. 0. 0. 0. 0. 0. 0.]\n",
            "log_loss(Y,preds) =  13.815510557964274\n",
            "Q: do log_loss and my_log_loss match?   A: True\n"
          ],
          "name": "stdout"
        }
      ]
    },
    {
      "cell_type": "code",
      "metadata": {
        "id": "-j681CL6YNc1"
      },
      "source": [
        "xs = [] \n",
        "ys = []\n",
        "for yhat in  yhats:\n",
        "  # print('yhat=',yhat)\n",
        "  xs.append(yhat)\n",
        "  ys.append( log_loss( Y, np.array([yhat]*N) ) )"
      ],
      "execution_count": 34,
      "outputs": []
    },
    {
      "cell_type": "code",
      "metadata": {
        "colab": {
          "base_uri": "https://localhost:8080/",
          "height": 265
        },
        "id": "U3WCbxa6ZJYD",
        "outputId": "6df5c8a3-935c-4361-af3c-fb45564dafeb"
      },
      "source": [
        "%matplotlib inline\n",
        "import matplotlib \n",
        "import matplotlib.pyplot as plt\n",
        "plt.plot(xs,ys)\n",
        "plt.grid()"
      ],
      "execution_count": 35,
      "outputs": [
        {
          "output_type": "display_data",
          "data": {
            "image/png": "[encoded data removed]",
            "text/plain": [
              "<Figure size 432x288 with 1 Axes>"
            ]
          },
          "metadata": {
            "tags": [],
            "needs_background": "light"
          }
        }
      ]
    },
    {
      "cell_type": "code",
      "metadata": {
        "id": "N_1PFBGop_ZT"
      },
      "source": [
        ""
      ],
      "execution_count": null,
      "outputs": []
    }
  ]
}