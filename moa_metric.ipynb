{
  "nbformat": 4,
  "nbformat_minor": 0,
  "metadata": {
    "colab": {
      "name": "moa_metric.ipynb",
      "provenance": [],
      "authorship_tag": "ABX9TyPHj9Osj+dwWtVjBeCCBHnt",
      "include_colab_link": true
    },
    "kernelspec": {
      "name": "python3",
      "display_name": "Python 3"
    }
  },
  "cells": [
    {
      "cell_type": "markdown",
      "metadata": {
        "id": "view-in-github",
        "colab_type": "text"
      },
      "source": [
        "<a href=\"https://colab.research.google.com/github/ftk1000/KGL/blob/master/moa_metric.ipynb\" target=\"_parent\"><img src=\"https://colab.research.google.com/assets/colab-badge.svg\" alt=\"Open In Colab\"/></a>"
      ]
    },
    {
      "cell_type": "code",
      "metadata": {
        "id": "Y2IEUHdwUzcK"
      },
      "source": [
        "# moa_metric.ipynb\n",
        "# 2020.11.26\n",
        "# MoA metric from https://www.youtube.com/watch?v=D7i67UT3O3o&feature=youtu.be\n",
        "\n",
        "import numpy as np\n",
        "\n",
        "def log_loss(y, yht):\n",
        "  r = -np.sum(y*np.log(yht) + (1-y)*np.log(1-yht))/len(y)\n",
        "  return r\n",
        "\n",
        "def clip(x):  \n",
        "  eps = 1E-15\n",
        "  return np.fmax(  np.fmin(x, 1.0-eps), eps  )\n"
      ],
      "execution_count": 33,
      "outputs": []
    },
    {
      "cell_type": "code",
      "metadata": {
        "id": "8SiohNIaVTJI"
      },
      "source": [
        "N=200 # number of targets - we will assume each target is a constant for all entry points\n",
        "y = targets = np.random.randint(0,2,N+1)\n",
        "# print('targets=y=',targets)\n",
        "\n",
        "# here are get predictions for each target value\n",
        "yhat = predictions = np.arange(0,1.01,1/N)\n",
        "# print('yhat=',yhat)\n",
        "# print ( len(yhat), len(y))"
      ],
      "execution_count": 38,
      "outputs": []
    },
    {
      "cell_type": "code",
      "metadata": {
        "colab": {
          "base_uri": "https://localhost:8080/"
        },
        "id": "HUoln9bhjRrr",
        "outputId": "e94f2d7e-9297-4b71-bd4c-1d0aad6f20e2"
      },
      "source": [
        "clip(yhat)[10]"
      ],
      "execution_count": 39,
      "outputs": [
        {
          "output_type": "execute_result",
          "data": {
            "text/plain": [
              "0.05"
            ]
          },
          "metadata": {
            "tags": []
          },
          "execution_count": 39
        }
      ]
    },
    {
      "cell_type": "code",
      "metadata": {
        "id": "-j681CL6YNc1"
      },
      "source": [
        "xs = [] \n",
        "ys = []\n",
        "for i in  yhat:\n",
        "  # print('i=',i)\n",
        "  xs.append(i)\n",
        "  i2yhat = np.array(clip([i]*(N+1)) )\n",
        "  logloss = log_loss(y, i2yhat )\n",
        "  ys.append(  logloss )"
      ],
      "execution_count": 40,
      "outputs": []
    },
    {
      "cell_type": "code",
      "metadata": {
        "colab": {
          "base_uri": "https://localhost:8080/",
          "height": 265
        },
        "id": "U3WCbxa6ZJYD",
        "outputId": "7dc681bb-a5d5-4df3-ea2e-8b2e0c3d22ae"
      },
      "source": [
        "%matplotlib inline\n",
        "import matplotlib \n",
        "import matplotlib.pyplot as plt\n",
        "plt.plot(xs,ys)\n",
        "plt.grid()"
      ],
      "execution_count": 41,
      "outputs": [
        {
          "output_type": "display_data",
          "data": {
            "image/png": "[encoded data removed]",
            "text/plain": [
              "<Figure size 432x288 with 1 Axes>"
            ]
          },
          "metadata": {
            "tags": [],
            "needs_background": "light"
          }
        }
      ]
    },
    {
      "cell_type": "code",
      "metadata": {
        "id": "N_1PFBGop_ZT"
      },
      "source": [
        ""
      ],
      "execution_count": null,
      "outputs": []
    }
  ]
}